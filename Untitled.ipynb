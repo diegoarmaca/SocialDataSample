{
 "cells": [
  {
   "cell_type": "code",
   "execution_count": 38,
   "metadata": {},
   "outputs": [],
   "source": [
    "import numpy as np\n",
    "from typing import Tuple, TextIO"
   ]
  },
  {
   "cell_type": "code",
   "execution_count": 73,
   "metadata": {},
   "outputs": [],
   "source": [
    "DATA_COLUMNS = [\n",
    "('alcofreq', int),\n",
    "('alcoweek', float),\n",
    "('biosex', 'U2'),\n",
    "('agegroup', int),\n",
    "('education', int),\n",
    "('fruitvegtot', float),\n",
    "('stressgen', int),\n",
    "('stresswork', int),\n",
    "('healthphys', int),\n",
    "('healthment', int),\n",
    "('satisfaction', int),\n",
    "('province', 'U2'),\n",
    "('hasdoctor', 'U2'),\n",
    "('bmi', float),\n",
    "('height', float),\n",
    "('weight', float),\n",
    "('incomegroup', int),\n",
    "('workhoursperweek', float),\n",
    "('firstlanguage', 'U2'),\n",
    "('yrsmokedaily', float)\n",
    "]"
   ]
  },
  {
   "cell_type": "code",
   "execution_count": 262,
   "metadata": {},
   "outputs": [],
   "source": [
    "CCHS = np.genfromtxt('CCHSX.csv', delimiter=',', skip_header=1, dtype=DATA_COLUMNS)"
   ]
  },
  {
   "cell_type": "code",
   "execution_count": 268,
   "metadata": {},
   "outputs": [],
   "source": [
    "def replace_nominal_codes(data: np.array, column_name: str, codes: Tuple[Tuple[str, str]]) -> None:\n",
    "    '''Precondition: column_name exists in data and is a nominal data measurement scale.\n",
    "    codes is a tuple of tuples containing (old code, new code).\n",
    "\n",
    "    Change all occurrences of old code to new code in column_name of data.\n",
    "    \n",
    "    >>> replace_nominal_codes(CCHS, 'biosex', (('1', 'M'),('2', 'F')))\n",
    "    >>> CCHS['biosex'][0]\n",
    "    'F'\n",
    "    >>> CCHS['biosex'][-1]\n",
    "    'M'\n",
    "    '''\n",
    "    #for i in range(len(codes)):\n",
    "     #   np.where(CCHS[column_name] == str(codes[i][0]), str(codes[i][1]),CCHS[column_name] )\n",
    "      #  print(CCHS[column_name])\n",
    "       # print(CCHS[CCHS[column_name] == str(codes[i][0])])\n",
    "    #np.where(CCHS[column_name] == str(codes[0]), str(codes[1]),CCHS[column_name] )\n",
    "    \n",
    "    data=np.where(data['biosex'] == \"1\", \"M\",\"F\")\n",
    "    print(data)"
   ]
  },
  {
   "cell_type": "code",
   "execution_count": 270,
   "metadata": {},
   "outputs": [
    {
     "name": "stdout",
     "output_type": "stream",
     "text": [
      "['F' 'M' 'M' ... 'F' 'F' 'M']\n",
      "New CCHS ['2' '1' '1' ... '2' '2' '1']\n"
     ]
    }
   ],
   "source": [
    "replace_nominal_codes(CCHS, 'biosex',(('1', 'M'),('2', 'F')))\n",
    "print(\"New CCHS\", CCHS['biosex'])"
   ]
  },
  {
   "cell_type": "code",
   "execution_count": 229,
   "metadata": {},
   "outputs": [
    {
     "data": {
      "text/plain": [
       "array(['2', '1', '1', ..., '2', '2', '1'], dtype='<U2')"
      ]
     },
     "execution_count": 229,
     "metadata": {},
     "output_type": "execute_result"
    }
   ],
   "source": [
    "CCHS['biosex']"
   ]
  },
  {
   "cell_type": "code",
   "execution_count": 131,
   "metadata": {},
   "outputs": [
    {
     "ename": "IndexError",
     "evalue": "too many indices for array",
     "output_type": "error",
     "traceback": [
      "\u001b[0;31m---------------------------------------------------------------------------\u001b[0m",
      "\u001b[0;31mIndexError\u001b[0m                                Traceback (most recent call last)",
      "\u001b[0;32m<ipython-input-131-6b4a61a622db>\u001b[0m in \u001b[0;36m<module>\u001b[0;34m\u001b[0m\n\u001b[0;32m----> 1\u001b[0;31m \u001b[0mCCHS\u001b[0m\u001b[0;34m[\u001b[0m\u001b[0;34m:\u001b[0m\u001b[0;34m,\u001b[0m\u001b[0;36m2\u001b[0m\u001b[0;34m]\u001b[0m\u001b[0;34m\u001b[0m\u001b[0;34m\u001b[0m\u001b[0m\n\u001b[0m",
      "\u001b[0;31mIndexError\u001b[0m: too many indices for array"
     ]
    }
   ],
   "source": [
    "CCHS[:,2]"
   ]
  },
  {
   "cell_type": "code",
   "execution_count": 132,
   "metadata": {},
   "outputs": [
    {
     "ename": "ValueError",
     "evalue": "maximum supported dimension for an ndarray is 32, found 1500",
     "output_type": "error",
     "traceback": [
      "\u001b[0;31m---------------------------------------------------------------------------\u001b[0m",
      "\u001b[0;31mValueError\u001b[0m                                Traceback (most recent call last)",
      "\u001b[0;32m<ipython-input-132-179c5829ca55>\u001b[0m in \u001b[0;36m<module>\u001b[0;34m\u001b[0m\n\u001b[0;32m----> 1\u001b[0;31m \u001b[0mnp\u001b[0m\u001b[0;34m.\u001b[0m\u001b[0mndarray\u001b[0m\u001b[0;34m(\u001b[0m\u001b[0mCCHS\u001b[0m\u001b[0;34m,\u001b[0m \u001b[0;36m1\u001b[0m\u001b[0;34m)\u001b[0m\u001b[0;34m\u001b[0m\u001b[0;34m\u001b[0m\u001b[0m\n\u001b[0m",
      "\u001b[0;31mValueError\u001b[0m: maximum supported dimension for an ndarray is 32, found 1500"
     ]
    }
   ],
   "source": [
    "np.ndarray(CCHS, 1)"
   ]
  },
  {
   "cell_type": "code",
   "execution_count": null,
   "metadata": {},
   "outputs": [],
   "source": []
  },
  {
   "cell_type": "code",
   "execution_count": null,
   "metadata": {},
   "outputs": [],
   "source": []
  },
  {
   "cell_type": "code",
   "execution_count": null,
   "metadata": {},
   "outputs": [],
   "source": []
  }
 ],
 "metadata": {
  "kernelspec": {
   "display_name": "Python 3",
   "language": "python",
   "name": "python3"
  },
  "language_info": {
   "codemirror_mode": {
    "name": "ipython",
    "version": 3
   },
   "file_extension": ".py",
   "mimetype": "text/x-python",
   "name": "python",
   "nbconvert_exporter": "python",
   "pygments_lexer": "ipython3",
   "version": "3.7.4"
  }
 },
 "nbformat": 4,
 "nbformat_minor": 2
}
