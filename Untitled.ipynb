{
 "cells": [
  {
   "cell_type": "code",
   "execution_count": 1,
   "metadata": {},
   "outputs": [],
   "source": [
    "import numpy as np\n",
    "from typing import Tuple, TextIO"
   ]
  },
  {
   "cell_type": "code",
   "execution_count": 2,
   "metadata": {},
   "outputs": [],
   "source": [
    "DATA_COLUMNS = [\n",
    "('alcofreq', int),\n",
    "('alcoweek', float),\n",
    "('biosex', 'U2'),\n",
    "('agegroup', int),\n",
    "('education', int),\n",
    "('fruitvegtot', float),\n",
    "('stressgen', int),\n",
    "('stresswork', int),\n",
    "('healthphys', int),\n",
    "('healthment', int),\n",
    "('satisfaction', int),\n",
    "('province', 'U2'),\n",
    "('hasdoctor', 'U2'),\n",
    "('bmi', float),\n",
    "('height', float),\n",
    "('weight', float),\n",
    "('incomegroup', int),\n",
    "('workhoursperweek', float),\n",
    "('firstlanguage', 'U2'),\n",
    "('yrsmokedaily', float)\n",
    "]"
   ]
  },
  {
   "cell_type": "code",
   "execution_count": 3,
   "metadata": {},
   "outputs": [],
   "source": [
    "CCHS = np.genfromtxt('CCHSX.csv', delimiter=',', skip_header=1, dtype=DATA_COLUMNS)"
   ]
  },
  {
   "cell_type": "code",
   "execution_count": 4,
   "metadata": {},
   "outputs": [
    {
     "data": {
      "text/plain": [
       "array([(2,   0., '2', 16, 4, 2.5, 2, 0, 2, 3, 2, '35', '1', 19.7 , 1.473, 42.75, 2, 996., '1', 6.),\n",
       "       (8,   7., '1', 14, 4, 4. , 1, 0, 4, 4, 1, '24', '1', 28.47, 1.778, 90.  , 5, 996., '2', 5.),\n",
       "       (6, 996., '1',  6, 2, 3.3, 1, 1, 4, 4, 2, '48', '2', 27.05, 1.778, 85.5 , 5,  80., '1', 1.),\n",
       "       ...,\n",
       "       (5, 996., '2',  4, 2, 4.2, 3, 5, 4, 3, 2, '11', '2', 20.34, 1.524, 47.25, 5, 996., '1', 6.),\n",
       "       (8,   8., '2', 11, 4, 6.8, 3, 3, 4, 4, 1, '35', '1', 23.04, 1.575, 57.15, 5,  55., '1', 6.),\n",
       "       (4,   2., '1',  3, 2, 4.3, 2, 2, 2, 3, 1, '35', '1', 29.07, 1.803, 94.5 , 3,  50., '1', 1.)],\n",
       "      dtype=[('alcofreq', '<i4'), ('alcoweek', '<f8'), ('biosex', '<U2'), ('agegroup', '<i4'), ('education', '<i4'), ('fruitvegtot', '<f8'), ('stressgen', '<i4'), ('stresswork', '<i4'), ('healthphys', '<i4'), ('healthment', '<i4'), ('satisfaction', '<i4'), ('province', '<U2'), ('hasdoctor', '<U2'), ('bmi', '<f8'), ('height', '<f8'), ('weight', '<f8'), ('incomegroup', '<i4'), ('workhoursperweek', '<f8'), ('firstlanguage', '<U2'), ('yrsmokedaily', '<f8')])"
      ]
     },
     "execution_count": 4,
     "metadata": {},
     "output_type": "execute_result"
    }
   ],
   "source": [
    "CCHS"
   ]
  },
  {
   "cell_type": "code",
   "execution_count": 5,
   "metadata": {},
   "outputs": [
    {
     "data": {
      "text/plain": [
       "20"
      ]
     },
     "execution_count": 5,
     "metadata": {},
     "output_type": "execute_result"
    }
   ],
   "source": [
    "len(CCHS[0])"
   ]
  },
  {
   "cell_type": "code",
   "execution_count": 6,
   "metadata": {},
   "outputs": [
    {
     "data": {
      "text/plain": [
       "array(['2', '1', '1', ..., '2', '2', '1'], dtype='<U2')"
      ]
     },
     "execution_count": 6,
     "metadata": {},
     "output_type": "execute_result"
    }
   ],
   "source": [
    "CCHS['biosex'].astype('<U2')"
   ]
  },
  {
   "cell_type": "code",
   "execution_count": 7,
   "metadata": {},
   "outputs": [
    {
     "data": {
      "text/plain": [
       "array([(2,   0., '2', 16, 4, 2.5, 2, 0, 2, 3, 2, '35', '1', 19.7 , 1.473, 42.75, 2, 996., '1', 6.),\n",
       "       (8,   7., '1', 14, 4, 4. , 1, 0, 4, 4, 1, '24', '1', 28.47, 1.778, 90.  , 5, 996., '2', 5.),\n",
       "       (6, 996., '1',  6, 2, 3.3, 1, 1, 4, 4, 2, '48', '2', 27.05, 1.778, 85.5 , 5,  80., '1', 1.),\n",
       "       ...,\n",
       "       (5, 996., '2',  4, 2, 4.2, 3, 5, 4, 3, 2, '11', '2', 20.34, 1.524, 47.25, 5, 996., '1', 6.),\n",
       "       (8,   8., '2', 11, 4, 6.8, 3, 3, 4, 4, 1, '35', '1', 23.04, 1.575, 57.15, 5,  55., '1', 6.),\n",
       "       (4,   2., '1',  3, 2, 4.3, 2, 2, 2, 3, 1, '35', '1', 29.07, 1.803, 94.5 , 3,  50., '1', 1.)],\n",
       "      dtype=[('alcofreq', '<i4'), ('alcoweek', '<f8'), ('biosex', '<U2'), ('agegroup', '<i4'), ('education', '<i4'), ('fruitvegtot', '<f8'), ('stressgen', '<i4'), ('stresswork', '<i4'), ('healthphys', '<i4'), ('healthment', '<i4'), ('satisfaction', '<i4'), ('province', '<U2'), ('hasdoctor', '<U2'), ('bmi', '<f8'), ('height', '<f8'), ('weight', '<f8'), ('incomegroup', '<i4'), ('workhoursperweek', '<f8'), ('firstlanguage', '<U2'), ('yrsmokedaily', '<f8')])"
      ]
     },
     "execution_count": 7,
     "metadata": {},
     "output_type": "execute_result"
    }
   ],
   "source": [
    "CCHS"
   ]
  },
  {
   "cell_type": "code",
   "execution_count": 8,
   "metadata": {},
   "outputs": [],
   "source": [
    "CCHS[CCHS['biosex'] == '12'] = '134'"
   ]
  },
  {
   "cell_type": "code",
   "execution_count": 9,
   "metadata": {},
   "outputs": [
    {
     "data": {
      "text/plain": [
       "array([(2,   0., '2', 16, 4, 2.5, 2, 0, 2, 3, 2, '35', '1', 19.7 , 1.473, 42.75, 2, 996., '1', 6.),\n",
       "       (8,   7., '1', 14, 4, 4. , 1, 0, 4, 4, 1, '24', '1', 28.47, 1.778, 90.  , 5, 996., '2', 5.),\n",
       "       (6, 996., '1',  6, 2, 3.3, 1, 1, 4, 4, 2, '48', '2', 27.05, 1.778, 85.5 , 5,  80., '1', 1.),\n",
       "       ...,\n",
       "       (5, 996., '2',  4, 2, 4.2, 3, 5, 4, 3, 2, '11', '2', 20.34, 1.524, 47.25, 5, 996., '1', 6.),\n",
       "       (8,   8., '2', 11, 4, 6.8, 3, 3, 4, 4, 1, '35', '1', 23.04, 1.575, 57.15, 5,  55., '1', 6.),\n",
       "       (4,   2., '1',  3, 2, 4.3, 2, 2, 2, 3, 1, '35', '1', 29.07, 1.803, 94.5 , 3,  50., '1', 1.)],\n",
       "      dtype=[('alcofreq', '<i4'), ('alcoweek', '<f8'), ('biosex', '<U2'), ('agegroup', '<i4'), ('education', '<i4'), ('fruitvegtot', '<f8'), ('stressgen', '<i4'), ('stresswork', '<i4'), ('healthphys', '<i4'), ('healthment', '<i4'), ('satisfaction', '<i4'), ('province', '<U2'), ('hasdoctor', '<U2'), ('bmi', '<f8'), ('height', '<f8'), ('weight', '<f8'), ('incomegroup', '<i4'), ('workhoursperweek', '<f8'), ('firstlanguage', '<U2'), ('yrsmokedaily', '<f8')])"
      ]
     },
     "execution_count": 9,
     "metadata": {},
     "output_type": "execute_result"
    }
   ],
   "source": [
    "CCHS"
   ]
  },
  {
   "cell_type": "code",
   "execution_count": 10,
   "metadata": {},
   "outputs": [],
   "source": [
    "# PART 2: FUNCTIONS\n",
    "\n",
    "def replace_nominal_codes(data: np.array, column_name: str, codes: Tuple[Tuple[str, str]]) -> None:\n",
    "    '''Precondition: column_name exists in data and is a nominal data measurement scale.\n",
    "    codes is a tuple of tuples containing (old code, new code).\n",
    "\n",
    "    Change all occurrences of old code to new code in column_name of data.\n",
    "    \n",
    "    >>> replace_nominal_codes(CCHS, 'biosex', (('1', 'M'),('2', 'F')))\n",
    "    >>> CCHS['biosex'][0]\n",
    "    'F'\n",
    "    >>> CCHS['biosex'][-1]\n",
    "    'M'\n",
    "    '''\n",
    "    for i in range(len(codes)):\n",
    "        data[column_name] = np.where(data[column_name] == codes[i][0], codes[i][1], data[column_name])"
   ]
  },
  {
   "cell_type": "code",
   "execution_count": 11,
   "metadata": {},
   "outputs": [],
   "source": [
    "CCHS = np.genfromtxt('CCHSX.csv', delimiter=',', skip_header=1, dtype=DATA_COLUMNS)"
   ]
  },
  {
   "cell_type": "code",
   "execution_count": 12,
   "metadata": {},
   "outputs": [],
   "source": [
    "replace_nominal_codes(CCHS, 'biosex', (('1', 'M'),('2', 'F')))"
   ]
  },
  {
   "cell_type": "code",
   "execution_count": 13,
   "metadata": {},
   "outputs": [
    {
     "name": "stdout",
     "output_type": "stream",
     "text": [
      "F\n",
      "M\n"
     ]
    },
    {
     "data": {
      "text/plain": [
       "array([(2,   0., 'F', 16, 4, 2.5, 2, 0, 2, 3, 2, '35', '1', 19.7 , 1.473, 42.75, 2, 996., '1', 6.),\n",
       "       (8,   7., 'M', 14, 4, 4. , 1, 0, 4, 4, 1, '24', '1', 28.47, 1.778, 90.  , 5, 996., '2', 5.),\n",
       "       (6, 996., 'M',  6, 2, 3.3, 1, 1, 4, 4, 2, '48', '2', 27.05, 1.778, 85.5 , 5,  80., '1', 1.),\n",
       "       ...,\n",
       "       (5, 996., 'F',  4, 2, 4.2, 3, 5, 4, 3, 2, '11', '2', 20.34, 1.524, 47.25, 5, 996., '1', 6.),\n",
       "       (8,   8., 'F', 11, 4, 6.8, 3, 3, 4, 4, 1, '35', '1', 23.04, 1.575, 57.15, 5,  55., '1', 6.),\n",
       "       (4,   2., 'M',  3, 2, 4.3, 2, 2, 2, 3, 1, '35', '1', 29.07, 1.803, 94.5 , 3,  50., '1', 1.)],\n",
       "      dtype=[('alcofreq', '<i4'), ('alcoweek', '<f8'), ('biosex', '<U2'), ('agegroup', '<i4'), ('education', '<i4'), ('fruitvegtot', '<f8'), ('stressgen', '<i4'), ('stresswork', '<i4'), ('healthphys', '<i4'), ('healthment', '<i4'), ('satisfaction', '<i4'), ('province', '<U2'), ('hasdoctor', '<U2'), ('bmi', '<f8'), ('height', '<f8'), ('weight', '<f8'), ('incomegroup', '<i4'), ('workhoursperweek', '<f8'), ('firstlanguage', '<U2'), ('yrsmokedaily', '<f8')])"
      ]
     },
     "execution_count": 13,
     "metadata": {},
     "output_type": "execute_result"
    }
   ],
   "source": [
    "print(CCHS['biosex'][0])\n",
    "print(CCHS['biosex'][-1])\n",
    "\n",
    "CCHS"
   ]
  },
  {
   "cell_type": "code",
   "execution_count": 14,
   "metadata": {},
   "outputs": [],
   "source": [
    "def replace_missing_with_nan(data: np.array, column_name: str, missing_codes: Tuple[float]) -> None:\n",
    "    '''Precondition: column_name exists in data and is a ratio data measurement scale.\n",
    "    missing_codes is a tuple containing codes that denote missing data.\n",
    "    Convert all values in column column_name of data that match the codes \n",
    "    in missing_codes to Not-A-Number values (np.nan)\n",
    "    \n",
    "    >>> replace_missing_with_nan(CCHS, 'alcoweek', (996,))\n",
    "    >>> CCHS['alcoweek'][2]\n",
    "    nan\n",
    "    >>> CCHS['alcoweek'][-3]\n",
    "    nan\n",
    "    '''\n",
    "    \n",
    "    for code in missing_codes:\n",
    "        data[column_name] = np.where(data[column_name] == code, 'nan', data[column_name])"
   ]
  },
  {
   "cell_type": "code",
   "execution_count": 15,
   "metadata": {},
   "outputs": [],
   "source": [
    "#CCHS = np.genfromtxt('CCHSX.csv', delimiter=',', skip_header=1, dtype=DATA_COLUMNS)"
   ]
  },
  {
   "cell_type": "code",
   "execution_count": 16,
   "metadata": {},
   "outputs": [],
   "source": [
    "replace_missing_with_nan(CCHS, 'alcoweek', (996,))"
   ]
  },
  {
   "cell_type": "code",
   "execution_count": 17,
   "metadata": {},
   "outputs": [
    {
     "name": "stdout",
     "output_type": "stream",
     "text": [
      "nan\n",
      "nan\n"
     ]
    },
    {
     "data": {
      "text/plain": [
       "array([(2,  0., 'F', 16, 4, 2.5, 2, 0, 2, 3, 2, '35', '1', 19.7 , 1.473, 42.75, 2, 996., '1', 6.),\n",
       "       (8,  7., 'M', 14, 4, 4. , 1, 0, 4, 4, 1, '24', '1', 28.47, 1.778, 90.  , 5, 996., '2', 5.),\n",
       "       (6, nan, 'M',  6, 2, 3.3, 1, 1, 4, 4, 2, '48', '2', 27.05, 1.778, 85.5 , 5,  80., '1', 1.),\n",
       "       ...,\n",
       "       (5, nan, 'F',  4, 2, 4.2, 3, 5, 4, 3, 2, '11', '2', 20.34, 1.524, 47.25, 5, 996., '1', 6.),\n",
       "       (8,  8., 'F', 11, 4, 6.8, 3, 3, 4, 4, 1, '35', '1', 23.04, 1.575, 57.15, 5,  55., '1', 6.),\n",
       "       (4,  2., 'M',  3, 2, 4.3, 2, 2, 2, 3, 1, '35', '1', 29.07, 1.803, 94.5 , 3,  50., '1', 1.)],\n",
       "      dtype=[('alcofreq', '<i4'), ('alcoweek', '<f8'), ('biosex', '<U2'), ('agegroup', '<i4'), ('education', '<i4'), ('fruitvegtot', '<f8'), ('stressgen', '<i4'), ('stresswork', '<i4'), ('healthphys', '<i4'), ('healthment', '<i4'), ('satisfaction', '<i4'), ('province', '<U2'), ('hasdoctor', '<U2'), ('bmi', '<f8'), ('height', '<f8'), ('weight', '<f8'), ('incomegroup', '<i4'), ('workhoursperweek', '<f8'), ('firstlanguage', '<U2'), ('yrsmokedaily', '<f8')])"
      ]
     },
     "execution_count": 17,
     "metadata": {},
     "output_type": "execute_result"
    }
   ],
   "source": [
    "print(CCHS['alcoweek'][2])\n",
    "print(CCHS['alcoweek'][-3])\n",
    "CCHS"
   ]
  },
  {
   "cell_type": "code",
   "execution_count": 18,
   "metadata": {},
   "outputs": [],
   "source": [
    "def write_categorical_csv(data: np.array, column_name: str, outfile: TextIO) -> None:\n",
    "    '''Precondition: column_name exists in data and is nominal or ordinal data measurement scale.\n",
    "    Write to outfile the label and counts of each category contained in column_name of data.\n",
    "    \n",
    "    >>> with open(\"csv/biosex.csv\", 'w') as file:\n",
    "            write_categorical_csv(CCHS, 'biosex', file)\n",
    "    >>> with open(\"csv/biosex.csv\", 'r') as check:\n",
    "            for line in check:\n",
    "                print(line.strip())\n",
    "    biosex,count\n",
    "    F,832\n",
    "    M,668\n",
    "    '''\n",
    "    \n",
    "    count_unique_val = np.unique(CCHS['biosex'], return_counts=True)\n",
    "    outfile.write(column_name + ',count\\n')\n",
    "    for i in range(len(count_unique_val[0])):\n",
    "        outfile.write(str(count_unique_val[0][i]) + ',' + str(count_unique_val[1][i]) + '\\n')"
   ]
  },
  {
   "cell_type": "code",
   "execution_count": 19,
   "metadata": {},
   "outputs": [],
   "source": [
    "#CCHS = np.genfromtxt('CCHSX.csv', delimiter=',', skip_header=1, dtype=DATA_COLUMNS)"
   ]
  },
  {
   "cell_type": "code",
   "execution_count": 20,
   "metadata": {},
   "outputs": [],
   "source": [
    "with open(\"csv/biosex.csv\", 'w') as file:\n",
    "            write_categorical_csv(CCHS, 'biosex', file)"
   ]
  },
  {
   "cell_type": "code",
   "execution_count": 21,
   "metadata": {},
   "outputs": [
    {
     "name": "stdout",
     "output_type": "stream",
     "text": [
      "biosex,count\n",
      "F,832\n",
      "M,668\n"
     ]
    }
   ],
   "source": [
    "with open(\"csv/biosex.csv\", 'r') as check:\n",
    "            for line in check:\n",
    "                print(line.strip())"
   ]
  },
  {
   "cell_type": "code",
   "execution_count": 22,
   "metadata": {},
   "outputs": [
    {
     "name": "stdout",
     "output_type": "stream",
     "text": [
      "F\n",
      "M\n"
     ]
    },
    {
     "data": {
      "text/plain": [
       "array([(2,   0., 'F', 16, 4, 2.5, 2, 0, 2, 3, 2, '35', '1', 19.7 , 1.473, 42.75, 2, 996., '1', 6.),\n",
       "       (8,   7., 'M', 14, 4, 4. , 1, 0, 4, 4, 1, '24', '1', 28.47, 1.778, 90.  , 5, 996., '2', 5.),\n",
       "       (6, 996., 'M',  6, 2, 3.3, 1, 1, 4, 4, 2, '48', '2', 27.05, 1.778, 85.5 , 5,  80., '1', 1.),\n",
       "       ...,\n",
       "       (5, 996., 'F',  4, 2, 4.2, 3, 5, 4, 3, 2, '11', '2', 20.34, 1.524, 47.25, 5, 996., '1', 6.),\n",
       "       (8,   8., 'F', 11, 4, 6.8, 3, 3, 4, 4, 1, '35', '1', 23.04, 1.575, 57.15, 5,  55., '1', 6.),\n",
       "       (4,   2., 'M',  3, 2, 4.3, 2, 2, 2, 3, 1, '35', '1', 29.07, 1.803, 94.5 , 3,  50., '1', 1.)],\n",
       "      dtype=[('alcofreq', '<i4'), ('alcoweek', '<f8'), ('biosex', '<U2'), ('agegroup', '<i4'), ('education', '<i4'), ('fruitvegtot', '<f8'), ('stressgen', '<i4'), ('stresswork', '<i4'), ('healthphys', '<i4'), ('healthment', '<i4'), ('satisfaction', '<i4'), ('province', '<U2'), ('hasdoctor', '<U2'), ('bmi', '<f8'), ('height', '<f8'), ('weight', '<f8'), ('incomegroup', '<i4'), ('workhoursperweek', '<f8'), ('firstlanguage', '<U2'), ('yrsmokedaily', '<f8')])"
      ]
     },
     "execution_count": 22,
     "metadata": {},
     "output_type": "execute_result"
    }
   ],
   "source": [
    "CCHS = np.genfromtxt('CCHSX.csv', delimiter=',', skip_header=1, dtype=DATA_COLUMNS)\n",
    "\n",
    "replace_nominal_codes(CCHS, 'biosex', (('1', 'M'),('2', 'F')))\n",
    "\n",
    "print(CCHS['biosex'][0])\n",
    "print(CCHS['biosex'][-1])\n",
    "\n",
    "CCHS"
   ]
  }
 ],
 "metadata": {
  "kernelspec": {
   "display_name": "Python 3",
   "language": "python",
   "name": "python3"
  },
  "language_info": {
   "codemirror_mode": {
    "name": "ipython",
    "version": 3
   },
   "file_extension": ".py",
   "mimetype": "text/x-python",
   "name": "python",
   "nbconvert_exporter": "python",
   "pygments_lexer": "ipython3",
   "version": "3.7.3"
  }
 },
 "nbformat": 4,
 "nbformat_minor": 2
}
