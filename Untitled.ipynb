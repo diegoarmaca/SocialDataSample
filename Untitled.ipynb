{
 "cells": [
  {
   "cell_type": "code",
   "execution_count": 129,
   "metadata": {},
   "outputs": [],
   "source": [
    "import numpy as np\n",
    "import pandas as pd\n",
    "from typing import Tuple, TextIO\n",
    "import csv\n",
    "import os"
   ]
  },
  {
   "cell_type": "code",
   "execution_count": 130,
   "metadata": {},
   "outputs": [],
   "source": [
    "DATA_COLUMNS = [\n",
    "('alcofreq', int),\n",
    "('alcoweek', float),\n",
    "('biosex', 'U2'),\n",
    "('agegroup', int),\n",
    "('education', int),\n",
    "('fruitvegtot', float),\n",
    "('stressgen', int),\n",
    "('stresswork', int),\n",
    "('healthphys', int),\n",
    "('healthment', int),\n",
    "('satisfaction', int),\n",
    "('province', 'U2'),\n",
    "('hasdoctor', 'U2'),\n",
    "('bmi', float),\n",
    "('height', float),\n",
    "('weight', float),\n",
    "('incomegroup', int),\n",
    "('workhoursperweek', float),\n",
    "('firstlanguage', 'U2'),\n",
    "('yrsmokedaily', float)\n",
    "]"
   ]
  },
  {
   "cell_type": "code",
   "execution_count": 131,
   "metadata": {},
   "outputs": [],
   "source": [
    "CCHS = np.genfromtxt('CCHSX.csv', delimiter=',', skip_header=1, dtype=DATA_COLUMNS)"
   ]
  },
  {
   "cell_type": "code",
   "execution_count": 132,
   "metadata": {},
   "outputs": [
    {
     "data": {
      "text/plain": [
       "array([(2,   0., '2', 16, 4, 2.5, 2, 0, 2, 3, 2, '35', '1', 19.7 , 1.473, 42.75, 2, 996., '1', 6.),\n",
       "       (8,   7., '1', 14, 4, 4. , 1, 0, 4, 4, 1, '24', '1', 28.47, 1.778, 90.  , 5, 996., '2', 5.),\n",
       "       (6, 996., '1',  6, 2, 3.3, 1, 1, 4, 4, 2, '48', '2', 27.05, 1.778, 85.5 , 5,  80., '1', 1.),\n",
       "       ...,\n",
       "       (5, 996., '2',  4, 2, 4.2, 3, 5, 4, 3, 2, '11', '2', 20.34, 1.524, 47.25, 5, 996., '1', 6.),\n",
       "       (8,   8., '2', 11, 4, 6.8, 3, 3, 4, 4, 1, '35', '1', 23.04, 1.575, 57.15, 5,  55., '1', 6.),\n",
       "       (4,   2., '1',  3, 2, 4.3, 2, 2, 2, 3, 1, '35', '1', 29.07, 1.803, 94.5 , 3,  50., '1', 1.)],\n",
       "      dtype=[('alcofreq', '<i8'), ('alcoweek', '<f8'), ('biosex', '<U2'), ('agegroup', '<i8'), ('education', '<i8'), ('fruitvegtot', '<f8'), ('stressgen', '<i8'), ('stresswork', '<i8'), ('healthphys', '<i8'), ('healthment', '<i8'), ('satisfaction', '<i8'), ('province', '<U2'), ('hasdoctor', '<U2'), ('bmi', '<f8'), ('height', '<f8'), ('weight', '<f8'), ('incomegroup', '<i8'), ('workhoursperweek', '<f8'), ('firstlanguage', '<U2'), ('yrsmokedaily', '<f8')])"
      ]
     },
     "execution_count": 132,
     "metadata": {},
     "output_type": "execute_result"
    }
   ],
   "source": [
    "CCHS"
   ]
  },
  {
   "cell_type": "code",
   "execution_count": 133,
   "metadata": {},
   "outputs": [
    {
     "data": {
      "text/plain": [
       "20"
      ]
     },
     "execution_count": 133,
     "metadata": {},
     "output_type": "execute_result"
    }
   ],
   "source": [
    "len(CCHS[0])"
   ]
  },
  {
   "cell_type": "code",
   "execution_count": 134,
   "metadata": {},
   "outputs": [
    {
     "data": {
      "text/plain": [
       "array(['2', '1', '1', ..., '2', '2', '1'], dtype='<U2')"
      ]
     },
     "execution_count": 134,
     "metadata": {},
     "output_type": "execute_result"
    }
   ],
   "source": [
    "CCHS['biosex'].astype('<U2')"
   ]
  },
  {
   "cell_type": "code",
   "execution_count": 135,
   "metadata": {},
   "outputs": [
    {
     "data": {
      "text/plain": [
       "array([(2,   0., '2', 16, 4, 2.5, 2, 0, 2, 3, 2, '35', '1', 19.7 , 1.473, 42.75, 2, 996., '1', 6.),\n",
       "       (8,   7., '1', 14, 4, 4. , 1, 0, 4, 4, 1, '24', '1', 28.47, 1.778, 90.  , 5, 996., '2', 5.),\n",
       "       (6, 996., '1',  6, 2, 3.3, 1, 1, 4, 4, 2, '48', '2', 27.05, 1.778, 85.5 , 5,  80., '1', 1.),\n",
       "       ...,\n",
       "       (5, 996., '2',  4, 2, 4.2, 3, 5, 4, 3, 2, '11', '2', 20.34, 1.524, 47.25, 5, 996., '1', 6.),\n",
       "       (8,   8., '2', 11, 4, 6.8, 3, 3, 4, 4, 1, '35', '1', 23.04, 1.575, 57.15, 5,  55., '1', 6.),\n",
       "       (4,   2., '1',  3, 2, 4.3, 2, 2, 2, 3, 1, '35', '1', 29.07, 1.803, 94.5 , 3,  50., '1', 1.)],\n",
       "      dtype=[('alcofreq', '<i8'), ('alcoweek', '<f8'), ('biosex', '<U2'), ('agegroup', '<i8'), ('education', '<i8'), ('fruitvegtot', '<f8'), ('stressgen', '<i8'), ('stresswork', '<i8'), ('healthphys', '<i8'), ('healthment', '<i8'), ('satisfaction', '<i8'), ('province', '<U2'), ('hasdoctor', '<U2'), ('bmi', '<f8'), ('height', '<f8'), ('weight', '<f8'), ('incomegroup', '<i8'), ('workhoursperweek', '<f8'), ('firstlanguage', '<U2'), ('yrsmokedaily', '<f8')])"
      ]
     },
     "execution_count": 135,
     "metadata": {},
     "output_type": "execute_result"
    }
   ],
   "source": [
    "CCHS"
   ]
  },
  {
   "cell_type": "code",
   "execution_count": 136,
   "metadata": {},
   "outputs": [],
   "source": [
    "CCHS[CCHS['biosex'] == '12'] = '134'"
   ]
  },
  {
   "cell_type": "code",
   "execution_count": 137,
   "metadata": {},
   "outputs": [
    {
     "data": {
      "text/plain": [
       "array([(2,   0., '2', 16, 4, 2.5, 2, 0, 2, 3, 2, '35', '1', 19.7 , 1.473, 42.75, 2, 996., '1', 6.),\n",
       "       (8,   7., '1', 14, 4, 4. , 1, 0, 4, 4, 1, '24', '1', 28.47, 1.778, 90.  , 5, 996., '2', 5.),\n",
       "       (6, 996., '1',  6, 2, 3.3, 1, 1, 4, 4, 2, '48', '2', 27.05, 1.778, 85.5 , 5,  80., '1', 1.),\n",
       "       ...,\n",
       "       (5, 996., '2',  4, 2, 4.2, 3, 5, 4, 3, 2, '11', '2', 20.34, 1.524, 47.25, 5, 996., '1', 6.),\n",
       "       (8,   8., '2', 11, 4, 6.8, 3, 3, 4, 4, 1, '35', '1', 23.04, 1.575, 57.15, 5,  55., '1', 6.),\n",
       "       (4,   2., '1',  3, 2, 4.3, 2, 2, 2, 3, 1, '35', '1', 29.07, 1.803, 94.5 , 3,  50., '1', 1.)],\n",
       "      dtype=[('alcofreq', '<i8'), ('alcoweek', '<f8'), ('biosex', '<U2'), ('agegroup', '<i8'), ('education', '<i8'), ('fruitvegtot', '<f8'), ('stressgen', '<i8'), ('stresswork', '<i8'), ('healthphys', '<i8'), ('healthment', '<i8'), ('satisfaction', '<i8'), ('province', '<U2'), ('hasdoctor', '<U2'), ('bmi', '<f8'), ('height', '<f8'), ('weight', '<f8'), ('incomegroup', '<i8'), ('workhoursperweek', '<f8'), ('firstlanguage', '<U2'), ('yrsmokedaily', '<f8')])"
      ]
     },
     "execution_count": 137,
     "metadata": {},
     "output_type": "execute_result"
    }
   ],
   "source": [
    "CCHS"
   ]
  },
  {
   "cell_type": "code",
   "execution_count": 138,
   "metadata": {},
   "outputs": [],
   "source": [
    "# PART 2: FUNCTIONS\n",
    "\n",
    "def replace_nominal_codes(data: np.array, column_name: str, codes: Tuple[Tuple[str, str]]) -> None:\n",
    "    '''Precondition: column_name exists in data and is a nominal data measurement scale.\n",
    "    codes is a tuple of tuples containing (old code, new code).\n",
    "\n",
    "    Change all occurrences of old code to new code in column_name of data.\n",
    "    \n",
    "    >>> replace_nominal_codes(CCHS, 'biosex', (('1', 'M'),('2', 'F')))\n",
    "    >>> CCHS['biosex'][0]\n",
    "    'F'\n",
    "    >>> CCHS['biosex'][-1]\n",
    "    'M'\n",
    "    '''\n",
    "    for i in range(len(codes)):\n",
    "        data[column_name] = np.where(data[column_name] == codes[i][0], codes[i][1], data[column_name])"
   ]
  },
  {
   "cell_type": "code",
   "execution_count": 139,
   "metadata": {},
   "outputs": [],
   "source": [
    "CCHS = np.genfromtxt('CCHSX.csv', delimiter=',', skip_header=1, dtype=DATA_COLUMNS)"
   ]
  },
  {
   "cell_type": "code",
   "execution_count": 140,
   "metadata": {},
   "outputs": [],
   "source": [
    "replace_nominal_codes(CCHS, 'biosex', (('1', 'M'),('2', 'F')))"
   ]
  },
  {
   "cell_type": "code",
   "execution_count": 141,
   "metadata": {},
   "outputs": [
    {
     "name": "stdout",
     "output_type": "stream",
     "text": [
      "F\n",
      "M\n"
     ]
    },
    {
     "data": {
      "text/plain": [
       "array([(2,   0., 'F', 16, 4, 2.5, 2, 0, 2, 3, 2, '35', '1', 19.7 , 1.473, 42.75, 2, 996., '1', 6.),\n",
       "       (8,   7., 'M', 14, 4, 4. , 1, 0, 4, 4, 1, '24', '1', 28.47, 1.778, 90.  , 5, 996., '2', 5.),\n",
       "       (6, 996., 'M',  6, 2, 3.3, 1, 1, 4, 4, 2, '48', '2', 27.05, 1.778, 85.5 , 5,  80., '1', 1.),\n",
       "       ...,\n",
       "       (5, 996., 'F',  4, 2, 4.2, 3, 5, 4, 3, 2, '11', '2', 20.34, 1.524, 47.25, 5, 996., '1', 6.),\n",
       "       (8,   8., 'F', 11, 4, 6.8, 3, 3, 4, 4, 1, '35', '1', 23.04, 1.575, 57.15, 5,  55., '1', 6.),\n",
       "       (4,   2., 'M',  3, 2, 4.3, 2, 2, 2, 3, 1, '35', '1', 29.07, 1.803, 94.5 , 3,  50., '1', 1.)],\n",
       "      dtype=[('alcofreq', '<i8'), ('alcoweek', '<f8'), ('biosex', '<U2'), ('agegroup', '<i8'), ('education', '<i8'), ('fruitvegtot', '<f8'), ('stressgen', '<i8'), ('stresswork', '<i8'), ('healthphys', '<i8'), ('healthment', '<i8'), ('satisfaction', '<i8'), ('province', '<U2'), ('hasdoctor', '<U2'), ('bmi', '<f8'), ('height', '<f8'), ('weight', '<f8'), ('incomegroup', '<i8'), ('workhoursperweek', '<f8'), ('firstlanguage', '<U2'), ('yrsmokedaily', '<f8')])"
      ]
     },
     "execution_count": 141,
     "metadata": {},
     "output_type": "execute_result"
    }
   ],
   "source": [
    "print(CCHS['biosex'][0])\n",
    "print(CCHS['biosex'][-1])\n",
    "\n",
    "CCHS"
   ]
  },
  {
   "cell_type": "code",
   "execution_count": 142,
   "metadata": {},
   "outputs": [],
   "source": [
    "def replace_missing_with_nan(data: np.array, column_name: str, missing_codes: Tuple[float]) -> None:\n",
    "    '''Precondition: column_name exists in data and is a ratio data measurement scale.\n",
    "    missing_codes is a tuple containing codes that denote missing data.\n",
    "    Convert all values in column column_name of data that match the codes \n",
    "    in missing_codes to Not-A-Number values (np.nan)\n",
    "    \n",
    "    >>> replace_missing_with_nan(CCHS, 'alcoweek', (996,))\n",
    "    >>> CCHS['alcoweek'][2]\n",
    "    nan\n",
    "    >>> CCHS['alcoweek'][-3]\n",
    "    nan\n",
    "    '''\n",
    "    \n",
    "    for code in missing_codes:\n",
    "        data[column_name] = np.where(data[column_name] == code, 'nan', data[column_name])"
   ]
  },
  {
   "cell_type": "code",
   "execution_count": 143,
   "metadata": {},
   "outputs": [],
   "source": [
    "#CCHS = np.genfromtxt('CCHSX.csv', delimiter=',', skip_header=1, dtype=DATA_COLUMNS)"
   ]
  },
  {
   "cell_type": "code",
   "execution_count": 144,
   "metadata": {},
   "outputs": [],
   "source": [
    "replace_missing_with_nan(CCHS, 'alcoweek', (996,))"
   ]
  },
  {
   "cell_type": "code",
   "execution_count": 145,
   "metadata": {},
   "outputs": [
    {
     "name": "stdout",
     "output_type": "stream",
     "text": [
      "nan\n",
      "nan\n"
     ]
    },
    {
     "data": {
      "text/plain": [
       "array([(2,  0., 'F', 16, 4, 2.5, 2, 0, 2, 3, 2, '35', '1', 19.7 , 1.473, 42.75, 2, 996., '1', 6.),\n",
       "       (8,  7., 'M', 14, 4, 4. , 1, 0, 4, 4, 1, '24', '1', 28.47, 1.778, 90.  , 5, 996., '2', 5.),\n",
       "       (6, nan, 'M',  6, 2, 3.3, 1, 1, 4, 4, 2, '48', '2', 27.05, 1.778, 85.5 , 5,  80., '1', 1.),\n",
       "       ...,\n",
       "       (5, nan, 'F',  4, 2, 4.2, 3, 5, 4, 3, 2, '11', '2', 20.34, 1.524, 47.25, 5, 996., '1', 6.),\n",
       "       (8,  8., 'F', 11, 4, 6.8, 3, 3, 4, 4, 1, '35', '1', 23.04, 1.575, 57.15, 5,  55., '1', 6.),\n",
       "       (4,  2., 'M',  3, 2, 4.3, 2, 2, 2, 3, 1, '35', '1', 29.07, 1.803, 94.5 , 3,  50., '1', 1.)],\n",
       "      dtype=[('alcofreq', '<i8'), ('alcoweek', '<f8'), ('biosex', '<U2'), ('agegroup', '<i8'), ('education', '<i8'), ('fruitvegtot', '<f8'), ('stressgen', '<i8'), ('stresswork', '<i8'), ('healthphys', '<i8'), ('healthment', '<i8'), ('satisfaction', '<i8'), ('province', '<U2'), ('hasdoctor', '<U2'), ('bmi', '<f8'), ('height', '<f8'), ('weight', '<f8'), ('incomegroup', '<i8'), ('workhoursperweek', '<f8'), ('firstlanguage', '<U2'), ('yrsmokedaily', '<f8')])"
      ]
     },
     "execution_count": 145,
     "metadata": {},
     "output_type": "execute_result"
    }
   ],
   "source": [
    "print(CCHS['alcoweek'][2])\n",
    "print(CCHS['alcoweek'][-3])\n",
    "CCHS"
   ]
  },
  {
   "cell_type": "code",
   "execution_count": 146,
   "metadata": {},
   "outputs": [],
   "source": [
    "def write_categorical_csv(data: np.array, column_name: str, outfile: TextIO) -> None:\n",
    "    '''Precondition: column_name exists in data and is nominal or ordinal data measurement scale.\n",
    "    Write to outfile the label and counts of each category contained in column_name of data.\n",
    "    \n",
    "    >>> with open(\"csv/biosex.csv\", 'w') as file:\n",
    "            write_categorical_csv(CCHS, 'biosex', file)\n",
    "    >>> with open(\"csv/biosex.csv\", 'r') as check:\n",
    "            for line in check:\n",
    "                print(line.strip())\n",
    "    biosex,count\n",
    "    F,832\n",
    "    M,668\n",
    "    '''\n",
    "    \n",
    "    count_unique_val = np.unique(data[column_name], return_counts=True)\n",
    "    outfile.write(column_name + ',count\\n')\n",
    "    for i in range(len(count_unique_val[0])):\n",
    "        outfile.write(str(count_unique_val[0][i]) + ',' + str(count_unique_val[1][i]) + '\\n')"
   ]
  },
  {
   "cell_type": "code",
   "execution_count": 147,
   "metadata": {},
   "outputs": [],
   "source": [
    "#CCHS = np.genfromtxt('CCHSX.csv', delimiter=',', skip_header=1, dtype=DATA_COLUMNS)"
   ]
  },
  {
   "cell_type": "code",
   "execution_count": 148,
   "metadata": {},
   "outputs": [],
   "source": [
    "with open(\"csv/province.csv\", 'w') as file:\n",
    "            write_categorical_csv(CCHS, 'province', file)"
   ]
  },
  {
   "cell_type": "code",
   "execution_count": 149,
   "metadata": {},
   "outputs": [
    {
     "name": "stdout",
     "output_type": "stream",
     "text": [
      "province,count\n",
      "10,46\n",
      "11,26\n",
      "12,65\n",
      "13,61\n",
      "24,267\n",
      "35,549\n",
      "46,69\n",
      "47,75\n",
      "48,140\n",
      "59,202\n"
     ]
    }
   ],
   "source": [
    "with open(\"csv/province.csv\", 'r') as check:\n",
    "            for line in check:\n",
    "                print(line.strip())"
   ]
  },
  {
   "cell_type": "code",
   "execution_count": 222,
   "metadata": {},
   "outputs": [
    {
     "name": "stdout",
     "output_type": "stream",
     "text": [
      "F\n",
      "M\n"
     ]
    },
    {
     "data": {
      "text/plain": [
       "array([(2,   0., 'F', 16, 4, 2.5, 2, 0, 2, 3, 2, '35', '1', 19.7 , 1.473, 42.75, 2, 996., '1', 6.),\n",
       "       (8,   7., 'M', 14, 4, 4. , 1, 0, 4, 4, 1, '24', '1', 28.47, 1.778, 90.  , 5, 996., '2', 5.),\n",
       "       (6, 996., 'M',  6, 2, 3.3, 1, 1, 4, 4, 2, '48', '2', 27.05, 1.778, 85.5 , 5,  80., '1', 1.),\n",
       "       ...,\n",
       "       (5, 996., 'F',  4, 2, 4.2, 3, 5, 4, 3, 2, '11', '2', 20.34, 1.524, 47.25, 5, 996., '1', 6.),\n",
       "       (8,   8., 'F', 11, 4, 6.8, 3, 3, 4, 4, 1, '35', '1', 23.04, 1.575, 57.15, 5,  55., '1', 6.),\n",
       "       (4,   2., 'M',  3, 2, 4.3, 2, 2, 2, 3, 1, '35', '1', 29.07, 1.803, 94.5 , 3,  50., '1', 1.)],\n",
       "      dtype=[('alcofreq', '<i8'), ('alcoweek', '<f8'), ('biosex', '<U2'), ('agegroup', '<i8'), ('education', '<i8'), ('fruitvegtot', '<f8'), ('stressgen', '<i8'), ('stresswork', '<i8'), ('healthphys', '<i8'), ('healthment', '<i8'), ('satisfaction', '<i8'), ('province', '<U2'), ('hasdoctor', '<U2'), ('bmi', '<f8'), ('height', '<f8'), ('weight', '<f8'), ('incomegroup', '<i8'), ('workhoursperweek', '<f8'), ('firstlanguage', '<U2'), ('yrsmokedaily', '<f8')])"
      ]
     },
     "execution_count": 222,
     "metadata": {},
     "output_type": "execute_result"
    }
   ],
   "source": [
    "CCHS = np.genfromtxt('CCHSX.csv', delimiter=',', skip_header=1, dtype=DATA_COLUMNS)\n",
    "\n",
    "replace_nominal_codes(CCHS, 'biosex', (('1', 'M'),('2', 'F')))\n",
    "\n",
    "print(CCHS['biosex'][0])\n",
    "print(CCHS['biosex'][-1])\n",
    "\n",
    "CCHS"
   ]
  },
  {
   "cell_type": "code",
   "execution_count": 274,
   "metadata": {},
   "outputs": [],
   "source": [
    "def write_column_summary_csv(data: np.array, column_name: str, outfile: TextIO) -> None:\n",
    "    '''Precondition: column_name exists in data and is a non-nominal data measurement scale.\n",
    "    Write to outfile a line containing comma-separated values as follows:\n",
    "    - The column name\n",
    "    - The median of values in the column\n",
    "    - (if interval or ratio) The mean of values in the column, ignoring nan\n",
    "    - (if interval or ratio) The standard deviation of values in the column, ignoring nan\n",
    "    \n",
    "    (Examples not required)\n",
    "    \n",
    "    '''\n",
    "    if str(data[column_name].dtype).startswith(\"float\"):\n",
    "        mean = str(round(np.nanmean(data[column_name]), 2))\n",
    "        median = str(round(np.nanmedian(data[column_name]), 2))\n",
    "        std = str(round(np.nanstd(data[column_name]),2))\n",
    "        outfile.write(column_name + \",\" + mean + ',' + median + ',' + std +'\\n')\n",
    "            \n",
    "    "
   ]
  },
  {
   "cell_type": "code",
   "execution_count": 275,
   "metadata": {},
   "outputs": [],
   "source": [
    "with open(\"csv/summary.csv\", 'a') as file:\n",
    "    write_column_summary_csv(CCHS, 'height', file)"
   ]
  }
 ],
 "metadata": {
  "kernelspec": {
   "display_name": "Python 3",
   "language": "python",
   "name": "python3"
  },
  "language_info": {
   "codemirror_mode": {
    "name": "ipython",
    "version": 3
   },
   "file_extension": ".py",
   "mimetype": "text/x-python",
   "name": "python",
   "nbconvert_exporter": "python",
   "pygments_lexer": "ipython3",
   "version": "3.7.4"
  }
 },
 "nbformat": 4,
 "nbformat_minor": 2
}
