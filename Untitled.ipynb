{
 "cells": [
  {
   "cell_type": "code",
   "execution_count": 1,
   "metadata": {},
   "outputs": [],
   "source": [
    "import numpy as np\n",
    "from typing import Tuple, TextIO"
   ]
  },
  {
   "cell_type": "code",
   "execution_count": 3,
   "metadata": {},
   "outputs": [],
   "source": [
    "DATA_COLUMNS = [\n",
    "('alcofreq', int),\n",
    "('alcoweek', float),\n",
    "('biosex', 'U2'),\n",
    "('agegroup', int),\n",
    "('education', int),\n",
    "('fruitvegtot', float),\n",
    "('stressgen', int),\n",
    "('stresswork', int),\n",
    "('healthphys', int),\n",
    "('healthment', int),\n",
    "('satisfaction', int),\n",
    "('province', 'U2'),\n",
    "('hasdoctor', 'U2'),\n",
    "('bmi', float),\n",
    "('height', float),\n",
    "('weight', float),\n",
    "('incomegroup', int),\n",
    "('workhoursperweek', float),\n",
    "('firstlanguage', 'U2'),\n",
    "('yrsmokedaily', float)\n",
    "]"
   ]
  },
  {
   "cell_type": "code",
   "execution_count": 4,
   "metadata": {},
   "outputs": [],
   "source": [
    "CCHS = np.genfromtxt('CCHSX.csv', delimiter=',', skip_header=1, dtype=DATA_COLUMNS)"
   ]
  },
  {
   "cell_type": "code",
   "execution_count": 5,
   "metadata": {},
   "outputs": [
    {
     "data": {
      "text/plain": [
       "array([(2,   0., '2', 16, 4, 2.5, 2, 0, 2, 3, 2, '35', '1', 19.7 , 1.473, 42.75, 2, 996., '1', 6.),\n",
       "       (8,   7., '1', 14, 4, 4. , 1, 0, 4, 4, 1, '24', '1', 28.47, 1.778, 90.  , 5, 996., '2', 5.),\n",
       "       (6, 996., '1',  6, 2, 3.3, 1, 1, 4, 4, 2, '48', '2', 27.05, 1.778, 85.5 , 5,  80., '1', 1.),\n",
       "       ...,\n",
       "       (5, 996., '2',  4, 2, 4.2, 3, 5, 4, 3, 2, '11', '2', 20.34, 1.524, 47.25, 5, 996., '1', 6.),\n",
       "       (8,   8., '2', 11, 4, 6.8, 3, 3, 4, 4, 1, '35', '1', 23.04, 1.575, 57.15, 5,  55., '1', 6.),\n",
       "       (4,   2., '1',  3, 2, 4.3, 2, 2, 2, 3, 1, '35', '1', 29.07, 1.803, 94.5 , 3,  50., '1', 1.)],\n",
       "      dtype=[('alcofreq', '<i4'), ('alcoweek', '<f8'), ('biosex', '<U2'), ('agegroup', '<i4'), ('education', '<i4'), ('fruitvegtot', '<f8'), ('stressgen', '<i4'), ('stresswork', '<i4'), ('healthphys', '<i4'), ('healthment', '<i4'), ('satisfaction', '<i4'), ('province', '<U2'), ('hasdoctor', '<U2'), ('bmi', '<f8'), ('height', '<f8'), ('weight', '<f8'), ('incomegroup', '<i4'), ('workhoursperweek', '<f8'), ('firstlanguage', '<U2'), ('yrsmokedaily', '<f8')])"
      ]
     },
     "execution_count": 5,
     "metadata": {},
     "output_type": "execute_result"
    }
   ],
   "source": [
    "CCHS"
   ]
  },
  {
   "cell_type": "code",
   "execution_count": 30,
   "metadata": {},
   "outputs": [
    {
     "data": {
      "text/plain": [
       "20"
      ]
     },
     "execution_count": 30,
     "metadata": {},
     "output_type": "execute_result"
    }
   ],
   "source": [
    "len(CCHS[0])"
   ]
  },
  {
   "cell_type": "code",
   "execution_count": 34,
   "metadata": {},
   "outputs": [
    {
     "ename": "AttributeError",
     "evalue": "'numpy.ndarray' object has no attribute 'hsplit'",
     "output_type": "error",
     "traceback": [
      "\u001b[1;31m---------------------------------------------------------------------------\u001b[0m",
      "\u001b[1;31mAttributeError\u001b[0m                            Traceback (most recent call last)",
      "\u001b[1;32m<ipython-input-34-c08e0da7cd67>\u001b[0m in \u001b[0;36m<module>\u001b[1;34m\u001b[0m\n\u001b[1;32m----> 1\u001b[1;33m \u001b[0mCCHS\u001b[0m\u001b[1;33m.\u001b[0m\u001b[0mhsplit\u001b[0m\u001b[1;33m\u001b[0m\u001b[1;33m\u001b[0m\u001b[0m\n\u001b[0m",
      "\u001b[1;31mAttributeError\u001b[0m: 'numpy.ndarray' object has no attribute 'hsplit'"
     ]
    }
   ],
   "source": [
    "CCHS.hsplit"
   ]
  },
  {
   "cell_type": "code",
   "execution_count": 33,
   "metadata": {},
   "outputs": [
    {
     "ename": "IndexError",
     "evalue": "too many indices for array",
     "output_type": "error",
     "traceback": [
      "\u001b[1;31m---------------------------------------------------------------------------\u001b[0m",
      "\u001b[1;31mIndexError\u001b[0m                                Traceback (most recent call last)",
      "\u001b[1;32m<ipython-input-33-6b4a61a622db>\u001b[0m in \u001b[0;36m<module>\u001b[1;34m\u001b[0m\n\u001b[1;32m----> 1\u001b[1;33m \u001b[0mCCHS\u001b[0m\u001b[1;33m[\u001b[0m\u001b[1;33m:\u001b[0m\u001b[1;33m,\u001b[0m\u001b[1;36m2\u001b[0m\u001b[1;33m]\u001b[0m\u001b[1;33m\u001b[0m\u001b[1;33m\u001b[0m\u001b[0m\n\u001b[0m",
      "\u001b[1;31mIndexError\u001b[0m: too many indices for array"
     ]
    }
   ],
   "source": [
    "CCHS[:,2]"
   ]
  },
  {
   "cell_type": "code",
   "execution_count": 35,
   "metadata": {},
   "outputs": [
    {
     "ename": "ValueError",
     "evalue": "sequence too large; cannot be greater than 32",
     "output_type": "error",
     "traceback": [
      "\u001b[1;31m---------------------------------------------------------------------------\u001b[0m",
      "\u001b[1;31mValueError\u001b[0m                                Traceback (most recent call last)",
      "\u001b[1;32m<ipython-input-35-179c5829ca55>\u001b[0m in \u001b[0;36m<module>\u001b[1;34m\u001b[0m\n\u001b[1;32m----> 1\u001b[1;33m \u001b[0mnp\u001b[0m\u001b[1;33m.\u001b[0m\u001b[0mndarray\u001b[0m\u001b[1;33m(\u001b[0m\u001b[0mCCHS\u001b[0m\u001b[1;33m,\u001b[0m \u001b[1;36m1\u001b[0m\u001b[1;33m)\u001b[0m\u001b[1;33m\u001b[0m\u001b[1;33m\u001b[0m\u001b[0m\n\u001b[0m",
      "\u001b[1;31mValueError\u001b[0m: sequence too large; cannot be greater than 32"
     ]
    }
   ],
   "source": [
    "np.ndarray(CCHS, 1)"
   ]
  },
  {
   "cell_type": "code",
   "execution_count": null,
   "metadata": {},
   "outputs": [],
   "source": []
  }
 ],
 "metadata": {
  "kernelspec": {
   "display_name": "Python 3",
   "language": "python",
   "name": "python3"
  },
  "language_info": {
   "codemirror_mode": {
    "name": "ipython",
    "version": 3
   },
   "file_extension": ".py",
   "mimetype": "text/x-python",
   "name": "python",
   "nbconvert_exporter": "python",
   "pygments_lexer": "ipython3",
   "version": "3.7.3"
  }
 },
 "nbformat": 4,
 "nbformat_minor": 2
}
