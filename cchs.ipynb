{
 "cells": [
  {
   "cell_type": "code",
   "execution_count": 17,
   "metadata": {},
   "outputs": [],
   "source": [
    "import numpy as np\n",
    "from typing import Tuple, TextIO\n",
    "import pandas as pd\n",
    "import matplotlib.pyplot as plt"
   ]
  },
  {
   "cell_type": "code",
   "execution_count": 18,
   "metadata": {},
   "outputs": [],
   "source": [
    "# Convenience Constant\n",
    "\n",
    "PROVINCE_CODES = (\n",
    "        ('10','NL'),\n",
    "        ('11','PE'),\n",
    "        ('12','NS'),\n",
    "        ('13','NB'),\n",
    "        ('24','QC'),\n",
    "        ('35','ON'),\n",
    "        ('46','MB'),\n",
    "        ('47','SK'),\n",
    "        ('48','AB'),\n",
    "        ('59','BC'),\n",
    "        ('60','NN') # NN is a combined code for NT, NU and YK\n",
    "    )\n",
    "\n",
    "# PART 1: PREPARATION\n",
    "\n",
    "# Change data types to:\n",
    "# - 'U2' for nominal\n",
    "# - int for ordinal\n",
    "# - float for interval\n",
    "# - float for ratio\n",
    "\n",
    "DATA_COLUMNS = [\n",
    "('alcofreq', int),\n",
    "('alcoweek', float),\n",
    "('biosex', 'U2'),\n",
    "('agegroup', int),\n",
    "('education', int),\n",
    "('fruitvegtot', float),\n",
    "('stressgen', int),\n",
    "('stresswork', int),\n",
    "('healthphys', int),\n",
    "('healthment', int),\n",
    "('satisfaction', int),\n",
    "('province', 'U2'),\n",
    "('hasdoctor', 'U2'),\n",
    "('bmi', float),\n",
    "('height', float),\n",
    "('weight', float),\n",
    "('incomegroup', int),\n",
    "('workhoursperweek', float),\n",
    "('firstlanguage', 'U2'),\n",
    "('yrsmokedaily', float)\n",
    "]\n",
    "\n",
    "\n",
    "# Fill out tuples with nominal, ordinal, interval, and ratio column names\n",
    "\n",
    "NOMINAL = ('biosex',\n",
    "           'province',\n",
    "           'hasdoctor',\n",
    "           'firstlanguage')\n",
    "ORDINAL = ('alcofreq',\n",
    "           'agegroup',\n",
    "           'education',\n",
    "           'stressgen',\n",
    "           'stresswork',\n",
    "           'healthphys',\n",
    "           'healthment',\n",
    "           'satisfaction',\n",
    "           'incomegroup')\n",
    "           \n",
    "INTERVAL = ()\n",
    "\n",
    "RATIO = ('alcoweek',\n",
    "         'fruitvegtot',\n",
    "         'bmi',\n",
    "         'height',\n",
    "         'weight',\n",
    "         'workhoursperweek',\n",
    "         'yrsmokedaily')\n",
    "\n"
   ]
  },
  {
   "cell_type": "code",
   "execution_count": 19,
   "metadata": {},
   "outputs": [],
   "source": [
    "# PART 2: FUNCTIONS\n",
    "\n",
    "def replace_nominal_codes(data: np.array, column_name: str, codes: Tuple[Tuple[str, str]]) -> None:\n",
    "    '''Precondition: column_name exists in data and is a nominal data measurement scale.\n",
    "    codes is a tuple of tuples containing (old code, new code).\n",
    "\n",
    "    Change all occurrences of old code to new code in column_name of data.\n",
    "    \n",
    "    >>> replace_nominal_codes(CCHS, 'biosex', (('1', 'M'),('2', 'F')))\n",
    "    >>> CCHS['biosex'][0]\n",
    "    'F'\n",
    "    >>> CCHS['biosex'][-1]\n",
    "    'M'\n",
    "    '''\n",
    "    for subtuple in codes:\n",
    "        data[column_name][data[column_name]==subtuple[0]] = subtuple[1]\n",
    "        \n",
    "def replace_missing_with_nan(data: np.array, column_name: str, missing_codes: Tuple[float]) -> None:\n",
    "    '''Precondition: column_name exists in data and is a ratio data measurement scale.\n",
    "    missing_codes is a tuple containing codes that denote missing data.\n",
    "    Convert all values in column column_name of data that match the codes \n",
    "    in missing_codes to Not-A-Number values (np.nan)\n",
    "    \n",
    "    >>> replace_missing_with_nan(CCHS, 'alcoweek', (996,))\n",
    "    >>> CCHS['alcoweek'][2]\n",
    "    nan\n",
    "    >>> CCHS['alcoweek'][-3]\n",
    "    nan\n",
    "    '''\n",
    "    \n",
    "    for code in missing_codes:\n",
    "        data[column_name][data[column_name] == code] = 'nan'\n",
    "        \n",
    "def write_categorical_csv(data: np.array, column_name: str, outfile: TextIO) -> None:\n",
    "    '''Precondition: column_name exists in data and is nominal or ordinal data measurement scale.\n",
    "    Write to outfile the label and counts of each category contained in column_name of data.\n",
    "    \n",
    "    >>> with open(\"csv/biosex.csv\", 'w') as file:\n",
    "            write_categorical_csv(CCHS, 'biosex', file)\n",
    "    >>> with open(\"csv/biosex.csv\", 'r') as check:\n",
    "            for line in check:\n",
    "                print(line.strip())\n",
    "    biosex,count\n",
    "    F,832\n",
    "    M,668\n",
    "    '''\n",
    "    \n",
    "    count_unique_val = np.unique(data[column_name], return_counts=True)\n",
    "    outfile.write(column_name + ',count\\n')\n",
    "    for i in range(len(count_unique_val[0])):\n",
    "        outfile.write(str(count_unique_val[0][i]) + ',' + str(count_unique_val[1][i]) + '\\n')\n",
    "\n",
    "\n",
    "def write_column_summary_csv(data: np.array, column_name: str, outfile: TextIO) -> None:\n",
    "    '''Precondition: column_name exists in data and is a non-nominal data measurement scale.\n",
    "    Write to outfile a line containing comma-separated values as follows:\n",
    "    - The column name\n",
    "    - The median of values in the column\n",
    "    - (if interval or ratio) The mean of values in the column, ignoring nan\n",
    "    - (if interval or ratio) The standard deviation of values in the column, ignoring nan\n",
    "    \n",
    "    (Examples not required)\n",
    "    \n",
    "    '''\n",
    "    median = str(round(np.nanmedian(data[column_name]), 2))\n",
    "    if str(data[column_name].dtype).startswith(\"int\"):\n",
    "        outfile.write(column_name + \",\" + median + \",,\" +'\\n')\n",
    "    if str(data[column_name].dtype).startswith(\"float\"):\n",
    "        mean = str(round(np.nanmean(data[column_name]), 2))\n",
    "        stdev = str(round(np.nanstd(data[column_name]),2))\n",
    "        outfile.write(column_name + \",\" + median + ',' + mean + ',' + stdev +'\\n')\n",
    "            \n"
   ]
  },
  {
   "cell_type": "code",
   "execution_count": 20,
   "metadata": {},
   "outputs": [],
   "source": [
    "if __name__ == \"__main__\":\n",
    "    \n",
    "    # Uncomment when Part 1 is complete\n",
    "    CCHS = np.genfromtxt('CCHSX.csv', delimiter=',', skip_header=1, dtype=DATA_COLUMNS)\n",
    "    \n",
    "    # Uncomment when replace_nominal_codes is complete\n",
    "    replace_nominal_codes(CCHS, 'biosex', (('1','M'),('2','F')))\n",
    "    replace_nominal_codes(CCHS, 'province', PROVINCE_CODES)\n",
    "    replace_nominal_codes(CCHS, 'hasdoctor', (('1','Y'),('2','N')))\n",
    "    replace_nominal_codes(CCHS, 'firstlanguage', (('1','EN'),('2','FR'),('3','EF'),('4','NO')))\n",
    "\n",
    "    # Uncomment when replace_missing_with_nan is complete\n",
    "    replace_missing_with_nan(CCHS, 'alcoweek', (996,))\n",
    "    replace_missing_with_nan(CCHS, 'workhoursperweek', (996,))\n",
    "    \n",
    "    # Uncomment when write_categorical_csv is complete\n",
    "    for c in NOMINAL + ORDINAL:\n",
    "        with open(\"csv/\"+c+'.csv', 'w') as f:\n",
    "            write_categorical_csv(CCHS, c, f)\n",
    "    \n",
    "    # Uncomment when ordinal_column_csv is complete\n",
    "    with open(\"csv/summary.csv\", 'w') as f:\n",
    "        f.write(\"COLUMN,MEDIAN,MEAN,STDEV\\n\")\n",
    "        for n in ORDINAL + INTERVAL + RATIO:\n",
    "            write_column_summary_csv(CCHS, n, f)"
   ]
  },
  {
   "cell_type": "markdown",
   "metadata": {},
   "source": [
    "# Understanding the variables through visualization"
   ]
  },
  {
   "cell_type": "markdown",
   "metadata": {},
   "source": [
    "We group all nominal data"
   ]
  },
  {
   "cell_type": "code",
   "execution_count": 21,
   "metadata": {},
   "outputs": [],
   "source": [
    "CCHS = np.genfromtxt('CCHSX.csv', delimiter=',', skip_header=1, dtype=DATA_COLUMNS)"
   ]
  },
  {
   "cell_type": "markdown",
   "metadata": {},
   "source": [
    "explain the step and what is canvas, figure and subplot"
   ]
  },
  {
   "cell_type": "code",
   "execution_count": 83,
   "metadata": {},
   "outputs": [
    {
     "data": {
      "image/png": "[encoded data removed]",
      "text/plain": [
       "<Figure size 1008x216 with 4 Axes>"
      ]
     },
     "metadata": {
      "needs_background": "light"
     },
     "output_type": "display_data"
    }
   ],
   "source": [
    "#Defining the canvas shape and figures sizes\n",
    "plots_size = (14,3)\n",
    "plt.figure(1, figsize=plots_size)\n",
    "#------------------\n",
    "#First we need the number of nominal variables\n",
    "rows = 221\n",
    "counter_num_subplots = 10 \n",
    "subplot_position = 1\n",
    "\n",
    "for i in range(len(DATA_COLUMNS)):\n",
    "    if DATA_COLUMNS[i][1] == 'U2':\n",
    "        with open(\"csv/\" + DATA_COLUMNS[i][0] + \".csv\") as file:\n",
    "            subplot_file = np.genfromtxt(file, delimiter=',', skip_header=1, dtype='U16')\n",
    "        original = plt.subplot(counter_num_subplots+ subplot_position+rows) #111\n",
    "        #rows += 100\n",
    "        subplot_position += 1\n",
    "        #counter_num_subplots += 10\n",
    "        original.bar(subplot_file[:,0], subplot_file[:,1].astype('float64'), label='PSS')\n",
    "        original.set_title(DATA_COLUMNS[i][0])\n",
    "        #original.set_xlabel('Scores Full')\n",
    "        original.set_ylabel('Frequency')\n",
    "subplot_file\n",
    "\n",
    "\n",
    "\n",
    "\n",
    "\n",
    "#------------------\n",
    "plt.show()"
   ]
  },
  {
   "cell_type": "markdown",
   "metadata": {},
   "source": [
    "We group all numerical data"
   ]
  },
  {
   "cell_type": "code",
   "execution_count": 108,
   "metadata": {},
   "outputs": [
    {
     "name": "stdout",
     "output_type": "stream",
     "text": [
      "('alcofreq', <class 'int'>)\n",
      "('alcoweek', <class 'float'>)\n",
      "('biosex', 'U2')\n",
      "('agegroup', <class 'int'>)\n",
      "('education', <class 'int'>)\n",
      "('fruitvegtot', <class 'float'>)\n",
      "('stressgen', <class 'int'>)\n",
      "('stresswork', <class 'int'>)\n",
      "('healthphys', <class 'int'>)\n",
      "('healthment', <class 'int'>)\n",
      "('satisfaction', <class 'int'>)\n",
      "('province', 'U2')\n",
      "('hasdoctor', 'U2')\n",
      "('bmi', <class 'float'>)\n",
      "('height', <class 'float'>)\n",
      "('weight', <class 'float'>)\n",
      "('incomegroup', <class 'int'>)\n",
      "('workhoursperweek', <class 'float'>)\n",
      "('firstlanguage', 'U2')\n",
      "('yrsmokedaily', <class 'float'>)\n"
     ]
    },
    {
     "data": {
      "text/plain": [
       "array([['EF', '14'],\n",
       "       ['EN', '1187'],\n",
       "       ['FR', '293'],\n",
       "       ['NO', '6']], dtype='<U16')"
      ]
     },
     "execution_count": 108,
     "metadata": {},
     "output_type": "execute_result"
    },
    {
     "data": {
      "text/plain": [
       "<Figure size 1008x216 with 0 Axes>"
      ]
     },
     "metadata": {},
     "output_type": "display_data"
    }
   ],
   "source": [
    "#Defining the canvas shape and figures sizes\n",
    "plots_size = (14,3)\n",
    "plt.figure(1, figsize=plots_size)\n",
    "#------------------\n",
    "#First we need the number of nominal variables\n",
    "rows = 421\n",
    "#counter_num_subplots = 10 \n",
    "#subplot_position = 1\n",
    "\n",
    "for i in range(len(DATA_COLUMNS)):\n",
    "    if DATA_COLUMNS[i][1] == 'int':\n",
    "        with open(\"csv/\" + DATA_COLUMNS[i][0] + \".csv\") as file:\n",
    "            subplot_file = np.genfromtxt(file, delimiter=',', skip_header=1, dtype='U16')\n",
    "        original = plt.subplot(counter_num_subplots + subplot_position + rows) #111\n",
    "        rows += 1\n",
    "        #subplot_position += 1\n",
    "        #counter_num_subplots += 10\n",
    "        original.bar(subplot_file[:,0].astype('<U2'), subplot_file[:,1].astype('float64'), label='PSS')\n",
    "        original.set_title(DATA_COLUMNS[i][0])\n",
    "        #original.set_xlabel('Scores Full')\n",
    "        original.set_ylabel('Frequency')\n",
    "    print(DATA_COLUMNS[i])\n",
    "subplot_file\n",
    "\n",
    "\n",
    "\n",
    "\n",
    "\n",
    "#------------------\n",
    "#plt.show()"
   ]
  },
  {
   "cell_type": "code",
   "execution_count": null,
   "metadata": {},
   "outputs": [],
   "source": []
  },
  {
   "cell_type": "code",
   "execution_count": null,
   "metadata": {},
   "outputs": [],
   "source": []
  }
 ],
 "metadata": {
  "kernelspec": {
   "display_name": "Python 3",
   "language": "python",
   "name": "python3"
  },
  "language_info": {
   "codemirror_mode": {
    "name": "ipython",
    "version": 3
   },
   "file_extension": ".py",
   "mimetype": "text/x-python",
   "name": "python",
   "nbconvert_exporter": "python",
   "pygments_lexer": "ipython3",
   "version": "3.7.3"
  }
 },
 "nbformat": 4,
 "nbformat_minor": 2
}
